{
 "cells": [
  {
   "cell_type": "markdown",
   "metadata": {},
   "source": [
    "# Lab exercise #2: Gaussian process basics "
   ]
  },
  {
   "cell_type": "markdown",
   "metadata": {},
   "source": [
    "CS-E4075, 2021"
   ]
  },
  {
   "cell_type": "markdown",
   "metadata": {},
   "source": [
    "### Learning objectives"
   ]
  },
  {
   "cell_type": "markdown",
   "metadata": {},
   "source": [
    "After completing this lab exercise, you should be able to:\n",
    "\n",
    "- Implement the squared exponential kernel and explain the interpretation of each parameter\n",
    "\n",
    "\n",
    "- Generate samples from a Gaussian process prior\n",
    "\n",
    "\n",
    "- Compute the posterior & predictive distributions for a Gaussian process model with Gaussian likelihood\n",
    "\n",
    "\n",
    "- Compute the marginal likelihood and use it for model selection\n",
    "\n",
    "All exercises must be solved using numpy only.\n"
   ]
  },
  {
   "cell_type": "code",
   "execution_count": 1,
   "metadata": {},
   "outputs": [],
   "source": [
    "%matplotlib inline\n",
    "import numpy as np\n",
    "import pylab as plt\n",
    "import seaborn as snb\n",
    "snb.set(font_scale=1.5)"
   ]
  },
  {
   "cell_type": "markdown",
   "metadata": {},
   "source": [
    "### Task 1: The squared exponential kernel"
   ]
  },
  {
   "cell_type": "markdown",
   "metadata": {},
   "source": [
    "The squared exponential covariance function is given by\n",
    "\n",
    "\\begin{align}\n",
    "    k(\\mathbf{x}_n, \\mathbf{x}_m) = \\alpha \\exp\\left(-\\frac{\\|\\mathbf{x}_n - \\mathbf{x}_m\\|^2_ 2}{2\\ell^2}\\right),\n",
    "\\end{align}\n",
    "\n",
    "where $\\alpha > 0$ and $\\ell > 0$ are hyperparameters of the kernel. This specific covariance function is perhaps the most common covariance function used in statistics and machine learning. It is also known as the radial basis function kernel, the gaussian kernel, or the exponeniated quadratic kernel. \n",
    "\n",
    "Below you are given a vector $\\mathbf{X}^p \\in \\mathbb{R}^{N \\times 1}$ of $N = 50$ points on the real line. The points are sorted and equidistantly distributed in the interval $\\left[-3, 9\\right]$. \n",
    "\n",
    "- **Task 1a**: Complete the implementation of the squared exponential kernel function below. (Hint: the code only needs to work with $D=1$).\n",
    "\n",
    "- **Task 1b**: Use the kernel function to compute the $N\\times N$ kernel matrix for the points $\\mathbf{X}^p$ with $\\alpha=1$ and $\\ell=1$. These points will be used for predictions later and hence, the superscript 'p'. Visualize the kernel function as an image and give an interpretation of the structure of the kernel. ('imshow' function)\n",
    "\n",
    "- **Task 1c**: Try few other parameter values $\\alpha, \\ell$ and explain how they affect the structure of the kernel."
   ]
  },
  {
   "cell_type": "code",
   "execution_count": 9,
   "metadata": {},
   "outputs": [],
   "source": [
    "# create an Nx1 vector of equidistant points in [-3, 3]\n",
    "N = 50\n",
    "Xp = np.linspace(-3, 9, N)[:, None]\n",
    "\n",
    "def create_se_kernel(X1, X2, alpha=1, scale=1):\n",
    "    \"\"\" returns the NxM kernel matrix between the two sets of input X1 and X2 \n",
    "    \n",
    "    arguments:\n",
    "    X1    -- NxD matrix\n",
    "    X2    -- MxD matrix\n",
    "    alpha -- scalar \n",
    "    scale -- scalar\n",
    "    \n",
    "    returns NxM matrix    \n",
    "    \"\"\"\n",
    "    \n",
    "    ###############################################\n",
    "    # ------- insert code here -------------------\n",
    "    ###############################################\n",
    "\n",
    "\n"
   ]
  },
  {
   "cell_type": "markdown",
   "metadata": {},
   "source": [
    "### Task 2: Sampling from a Gaussian process"
   ]
  },
  {
   "cell_type": "markdown",
   "metadata": {},
   "source": [
    "We will consider a zero-mean Gaussian process prior for functions of the form $f: \\mathbb{R} \\rightarrow \\mathbb{R}$ using the squared exponential kernel from task 1). That is,\n",
    "\n",
    "\\begin{align}\n",
    "f(x) \\sim \\mathcal{GP}\\left(0 \\, , \\, k\\left(x, x'\\right)\\right).\n",
    "\\end{align}\n",
    "\n",
    "Let $f_n = f(x_n) \\in \\mathbb{R}$ be the value of the function $f$ evaluated at a point $x_n \\in \\mathbb{R}$. Furthermore, let $\\mathbf{f} = \\left[f_1, f_2, \\dots, f_N\\right] \\in \\mathbb{R}^{N \\times 1}$ be the vector of function values for each of the points of $\\mathbf{X}^p$ from task 1. \n",
    "\n",
    "The Gaussian process prior for $\\mathbf{f}$ becomes\n",
    "\n",
    "\\begin{align}\n",
    "\\mathbf{f} \\sim \\mathcal{N}\\left(\\mathbf{0}, \\mathbf{K}\\right),\n",
    "\\end{align}\n",
    "\n",
    "where $\\mathbf{K}$ is the kernel matrix you generated previously.\n",
    "\n",
    "- **Task 2a**: Complete the implementation of the sampling function given below. Hint: You can re-use the code from first exercise.\n",
    "\n",
    "\n",
    "- **Task 2b**: Generate $M = 10$ samples using the new function and plot them\n",
    "\n",
    "\n",
    "- **Task 2c**: Change the parameters $\\alpha, \\ell$ and explain how they affect the generated samples.\n"
   ]
  },
  {
   "cell_type": "code",
   "execution_count": 10,
   "metadata": {},
   "outputs": [],
   "source": [
    "def generate_samples(mean, K, M):\n",
    "    \"\"\" returns M samples from a zero-mean Gaussian process with kernel matrix K\n",
    "    \n",
    "    arguments:\n",
    "    K   -- NxN kernel matrix\n",
    "    M   -- number of samples (scalar)\n",
    "    \n",
    "    returns NxM matrix\n",
    "    \"\"\"\n",
    "    \n",
    "    ###############################################\n",
    "    # ------- insert code here -------------------\n",
    "    ###############################################\n",
    "\n",
    "\n"
   ]
  },
  {
   "cell_type": "markdown",
   "metadata": {},
   "source": [
    "### Task 3: The analytical posterior distribution"
   ]
  },
  {
   "cell_type": "markdown",
   "metadata": {},
   "source": [
    "The goal of this task is complete the implementation of the function below for computing the analytical posterior distribution for a Gaussian process model with Gaussian likelihood, respectively, using the squared exponential kernel.\n",
    "\n",
    "The joint model for the training data is as follows:\n",
    "\\begin{align}\n",
    "p(\\mathbf{y}, \\mathbf{f}) = \\mathcal{N}\\left(\\mathbf{y}|\\mathbf{f}, \\sigma^2 \\mathbf{I}\\right)\\mathcal{N}\\left(\\mathbf{f} | \\mathbf{0}, \\mathbf{K}\\right)\n",
    "\\end{align}\n",
    "\n",
    "\n",
    "\n"
   ]
  },
  {
   "cell_type": "markdown",
   "metadata": {},
   "source": [
    "Below you are given a simple toy data set $\\mathcal{D} = \\left\\lbrace x_n, y_n \\right\\rbrace_{n=1}^N$ for $N = 50$ as visualized below\n"
   ]
  },
  {
   "cell_type": "code",
   "execution_count": 11,
   "metadata": {},
   "outputs": [
    {
     "data": {
      "image/png": "[encoded data removed]",
      "text/plain": [
       "<Figure size 432x288 with 1 Axes>"
      ]
     },
     "metadata": {},
     "output_type": "display_data"
    }
   ],
   "source": [
    "# load data\n",
    "data = np.load('assignment2_data.npz')\n",
    "N = data['N']\n",
    "X = data['X']\n",
    "y = data['y']\n",
    "\n",
    "plt.plot(X, y, 'k.', markersize=12, label='Training data')\n",
    "plt.grid(True)\n",
    "plt.xlim((-4, 4))\n",
    "plt.ylim((-3, 6))\n",
    "plt.xlabel('Input $x$')\n",
    "plt.ylabel('Response $y$')\n",
    "plt.legend();\n"
   ]
  },
  {
   "cell_type": "markdown",
   "metadata": {},
   "source": [
    "**Task 3a**: Complete the implementation of the function <tt>posterior</tt> that computes the posterior\n",
    "\n",
    "\\begin{align*}\n",
    "p(f_* | X,y,X^p) = \\mathcal{N} \\left(f_* \\big| K_{f_* f} K_{ff}^{-1} y, K_{f_* f_*} - K_{f_* f} K_{ff}^{-1} K_{f_* f}^T \\right)\n",
    "\\end{align*}\n"
   ]
  },
  {
   "cell_type": "code",
   "execution_count": 12,
   "metadata": {},
   "outputs": [],
   "source": [
    "def posterior(Xp, X, y, alpha, scale, sigma2):\n",
    "    \"\"\" returns the posterior distribution of f evaluated at each of the points in Xp conditioned on (X, y)\n",
    "        using the squared exponential kernel.\n",
    "    \n",
    "    Arguments:\n",
    "    Xp    -- PxD prediction points\n",
    "    X     -- NxD input points\n",
    "    y     -- Nx1 observed values \n",
    "    alpha -- hyperparameter\n",
    "    scale -- hyperparameter\n",
    "    sigma2 -- noise variance\n",
    "    \n",
    "    returns Px1 mean vector and PxP covariance matrix\n",
    "    \"\"\"\n",
    "    \n",
    "    ###############################################\n",
    "    # ------- insert code here -------------------\n",
    "    ###############################################\n",
    "    \n",
    "    return mu, Sigma\n",
    "\n"
   ]
  },
  {
   "cell_type": "markdown",
   "metadata": {},
   "source": [
    "**Task 3b**: Compute the prior & posterior of $f(\\mathbf{X}_p)$ with $\\sigma^2 = \\frac{1}{2}$, $\\alpha=1$, and <tt>scale</tt>=2, where $\\mathbf{X}_p$ is the vector from task 1.\n"
   ]
  },
  {
   "cell_type": "code",
   "execution_count": 13,
   "metadata": {},
   "outputs": [
    {
     "ename": "SyntaxError",
     "evalue": "invalid syntax (<ipython-input-13-027614340448>, line 7)",
     "output_type": "error",
     "traceback": [
      "\u001b[0;36m  File \u001b[0;32m\"<ipython-input-13-027614340448>\"\u001b[0;36m, line \u001b[0;32m7\u001b[0m\n\u001b[0;31m    mu_prior, Sigma_prior = ??\u001b[0m\n\u001b[0m                            ^\u001b[0m\n\u001b[0;31mSyntaxError\u001b[0m\u001b[0;31m:\u001b[0m invalid syntax\n"
     ]
    }
   ],
   "source": [
    "sigma2 = 0.5\n",
    "alpha = 1\n",
    "scale = 1\n",
    "\n",
    "\n",
    "# prior mean and covariance\n",
    "mu_prior, Sigma_prior = ??\n",
    "\n",
    "# posterior mean and covariance\n",
    "mu_post, Sigma_post = ??\n",
    "    "
   ]
  },
  {
   "cell_type": "markdown",
   "metadata": {},
   "source": [
    "**Task 3c**: If the functions above have been implemented correctly, then the following two plots below will show the training data superimposed with prior and posterior, respectively. First, explain what you see in the two figures. Second, what is the difference between the prior and the posterior in 1) regions close to the data points 2) in regions far from the data points?\n",
    "\n"
   ]
  },
  {
   "cell_type": "code",
   "execution_count": 14,
   "metadata": {},
   "outputs": [
    {
     "ename": "NameError",
     "evalue": "name 'mu_prior' is not defined",
     "output_type": "error",
     "traceback": [
      "\u001b[0;31m---------------------------------------------------------------------------\u001b[0m",
      "\u001b[0;31mNameError\u001b[0m                                 Traceback (most recent call last)",
      "\u001b[0;32m<ipython-input-14-b679a21c23a3>\u001b[0m in \u001b[0;36m<module>\u001b[0;34m\u001b[0m\n\u001b[1;32m     27\u001b[0m \u001b[0mplt\u001b[0m\u001b[0;34m.\u001b[0m\u001b[0msubplot\u001b[0m\u001b[0;34m(\u001b[0m\u001b[0;36m1\u001b[0m\u001b[0;34m,\u001b[0m \u001b[0;36m2\u001b[0m\u001b[0;34m,\u001b[0m \u001b[0;36m1\u001b[0m\u001b[0;34m)\u001b[0m\u001b[0;34m\u001b[0m\u001b[0;34m\u001b[0m\u001b[0m\n\u001b[1;32m     28\u001b[0m \u001b[0mplot_data\u001b[0m\u001b[0;34m(\u001b[0m\u001b[0;34m)\u001b[0m\u001b[0;34m\u001b[0m\u001b[0;34m\u001b[0m\u001b[0m\n\u001b[0;32m---> 29\u001b[0;31m \u001b[0mplot_with_uncertainty\u001b[0m\u001b[0;34m(\u001b[0m\u001b[0mXp\u001b[0m\u001b[0;34m,\u001b[0m \u001b[0mmu_prior\u001b[0m\u001b[0;34m,\u001b[0m \u001b[0mSigma_prior\u001b[0m\u001b[0;34m,\u001b[0m \u001b[0mtitle\u001b[0m\u001b[0;34m=\u001b[0m\u001b[0;34m'Prior distribution'\u001b[0m\u001b[0;34m,\u001b[0m \u001b[0mnum_samples\u001b[0m\u001b[0;34m=\u001b[0m\u001b[0;36m10\u001b[0m\u001b[0;34m)\u001b[0m\u001b[0;34m\u001b[0m\u001b[0;34m\u001b[0m\u001b[0m\n\u001b[0m\u001b[1;32m     30\u001b[0m \u001b[0mplt\u001b[0m\u001b[0;34m.\u001b[0m\u001b[0mlegend\u001b[0m\u001b[0;34m(\u001b[0m\u001b[0mloc\u001b[0m\u001b[0;34m=\u001b[0m\u001b[0;34m'lower right'\u001b[0m\u001b[0;34m)\u001b[0m\u001b[0;34m\u001b[0m\u001b[0;34m\u001b[0m\u001b[0m\n\u001b[1;32m     31\u001b[0m \u001b[0;34m\u001b[0m\u001b[0m\n",
      "\u001b[0;31mNameError\u001b[0m: name 'mu_prior' is not defined"
     ]
    },
    {
     "data": {
      "image/png": "[encoded data removed]",
      "text/plain": [
       "<Figure size 1440x432 with 1 Axes>"
      ]
     },
     "metadata": {},
     "output_type": "display_data"
    }
   ],
   "source": [
    "def plot_with_uncertainty(Xp, mu, Sigma, color='r', color_samples='b', title=\"\", num_samples=0):\n",
    "    \n",
    "    mean, std = mu.ravel(), np.sqrt(np.diag(Sigma))\n",
    "\n",
    "    \n",
    "    # plot distribution\n",
    "    plt.plot(Xp, mean, color=color, label='Mean')\n",
    "    plt.plot(Xp, mean + 2*std, color=color, linestyle='--')\n",
    "    plt.plot(Xp, mean - 2*std, color=color, linestyle='--')\n",
    "    plt.fill_between(Xp.ravel(), mean - 2*std, mean + 2*std, color=color, alpha=0.25, label='Confidence')\n",
    "    \n",
    "    # generate samples\n",
    "    if num_samples > 0:\n",
    "        fs = generate_samples(mu, Sigma, 10)\n",
    "        plt.plot(Xp, fs, color=color_samples, alpha=.25)\n",
    "    \n",
    "    plt.title(title)\n",
    "    \n",
    "def plot_data():\n",
    "    plt.plot(X, y, 'k.', markersize=15, label='Data')\n",
    "    plt.xlabel('Input x')\n",
    "    plt.ylim((-5, 5))\n",
    "    plt.grid(True)\n",
    "\n",
    "    \n",
    "plt.figure(figsize=(20, 6))\n",
    "plt.subplot(1, 2, 1)\n",
    "plot_data()\n",
    "plot_with_uncertainty(Xp, mu_prior, Sigma_prior, title='Prior distribution', num_samples=10)\n",
    "plt.legend(loc='lower right')\n",
    "\n",
    "plt.subplot(1, 2, 2)\n",
    "plot_data()\n",
    "plot_with_uncertainty(Xp, mu_post, Sigma_post, title='Posterior distribution', num_samples=10)\n",
    "plt.legend(loc='lower right')\n",
    "\n",
    "\n"
   ]
  },
  {
   "cell_type": "markdown",
   "metadata": {},
   "source": [
    "**Task 3d**: Replicate the two figures above for the following three different values of the scale parameter: $\\left\\lbrace 0.25, 1, 5 \\right\\rbrace$ and for $\\sigma^2 = \\frac{1}{2}$ and $\\alpha=1$. Explain the differences between the three sets of plots\n"
   ]
  },
  {
   "cell_type": "code",
   "execution_count": 15,
   "metadata": {},
   "outputs": [],
   "source": [
    "sigma2=0.5\n",
    "alpha=1\n",
    "scales = [0.1, 1., 10.]\n",
    "\n",
    "###############################################\n",
    "# ------- insert code here -------------------\n",
    "###############################################"
   ]
  },
  {
   "cell_type": "markdown",
   "metadata": {},
   "source": [
    "**Task 3e**: Replicate the two figures above for the following three different values of the alpa parameter: $\\left\\lbrace 0.25, 1, 5 \\right\\rbrace$ and for $\\sigma^2 = \\frac{1}{2}$ and $\\text{scale}=1$. Explain the differences between the three sets of plots\n"
   ]
  },
  {
   "cell_type": "code",
   "execution_count": 16,
   "metadata": {},
   "outputs": [],
   "source": [
    "sigma2=0.5\n",
    "scale=1\n",
    "alphas = [0.25, 1., 2.]\n",
    "\n",
    "###############################################\n",
    "# ------- insert code here -------------------\n",
    "###############################################"
   ]
  },
  {
   "cell_type": "markdown",
   "metadata": {},
   "source": [
    "### Task 4: The marginal likelihood"
   ]
  },
  {
   "cell_type": "markdown",
   "metadata": {},
   "source": [
    "The purpose of this task is to study the marginal likelihood $p(\\mathbf{y})$ and see how it can be useful for model selection. \n",
    "\n",
    "The marginal likelihood is covered in lecture #3.\n",
    "\n",
    "The marginal likelihood for a zero-mean Gaussian process model with Gaussian likelihood is given by\n",
    "\n",
    "\\begin{align}\n",
    "p(\\mathbf{y} \\big| \\theta) = \\mathcal{N}\\left(\\bf{y} \\big| \\bf{0}, \\bf{K} + \\sigma^2 \\bf{I}\\right)\n",
    "\\end{align}\n",
    "\n",
    "where $\\theta$ are the set of hyperparameters, e.g. the alpha and scale parameters.\n",
    "\n",
    "First, we will load some validation data that will be useful for evaluating the model.\n"
   ]
  },
  {
   "cell_type": "code",
   "execution_count": 18,
   "metadata": {},
   "outputs": [
    {
     "data": {
      "image/png": "[encoded data removed]",
      "text/plain": [
       "<Figure size 432x288 with 1 Axes>"
      ]
     },
     "metadata": {},
     "output_type": "display_data"
    }
   ],
   "source": [
    "Nval, Xval, yval = data['Nval'], data['Xval'], data['yval']\n",
    "\n",
    "plot_data()\n",
    "plt.plot(Xval, yval, 'c.', label='Validation data', markersize=12)\n",
    "plt.legend(loc='upper center');"
   ]
  },
  {
   "cell_type": "markdown",
   "metadata": {},
   "source": [
    "**Task 4a**: Complete the implementation of the function <tt>predictive</tt> below. The predictive distribution of 'yp' combines prediction function posterior (<tt>posterior</tt>) and the noise variance.\n"
   ]
  },
  {
   "cell_type": "code",
   "execution_count": 19,
   "metadata": {},
   "outputs": [],
   "source": [
    "def predictive(Xp, X, y, alpha, scale, sigma2):\n",
    "    \"\"\" returns the predictive distribution of yp \n",
    "    evaluated at each of the points in Xp conditioned on (X, y)\n",
    "    \n",
    "    Arguments:\n",
    "    Xp    -- PxD prediction points\n",
    "    X     -- NxD input points\n",
    "    y     -- Nx1 observed values \n",
    "    alpha -- hyperparameter\n",
    "    scale -- hyperparameter\n",
    "    sigma2 -- noise variance\n",
    "    \n",
    "    returns Px1 mean vector and PxP covariance matrix\n",
    "    \"\"\"\n",
    "    ###############################################\n",
    "    # ------- insert code here -------------------\n",
    "    ###############################################\n"
   ]
  },
  {
   "cell_type": "markdown",
   "metadata": {},
   "source": [
    "**Task 4b**: Complete the implementation of the function <tt>MLPPD</tt> for computing the mean log posterior predictive density given below.\n"
   ]
  },
  {
   "cell_type": "code",
   "execution_count": null,
   "metadata": {},
   "outputs": [],
   "source": [
    "log_npdf = lambda x, m, v: -0.5*(x-m)**2/v -0.5* np.log(2*np.pi*v)\n",
    "\n",
    "def MLPPD(Xval, yval, mu, Sigma):\n",
    "    \"\"\" returns the mean log posterior predictive density \n",
    "    for the data points (Xval, yval) wrt. predictive density N(mu, Sigma)\n",
    "    \n",
    "    Arguments:\n",
    "    Xval      -- PxD input points\n",
    "    yval      -- px1 observed values \n",
    "    mu        -- Dx1 mean of predictive distribution\n",
    "    Sigma     -- DxD covariance of predictive distribution\n",
    "\n",
    "    Returns\n",
    "    mlppd     -- (scalar) mean log posterior predictive density\n",
    "    \n",
    "    \"\"\"\n",
    "    ###############################################\n",
    "    # ------- insert code here -------------------\n",
    "    ###############################################\n",
    "    \n",
    "    return mlppd\n",
    "\n",
    "\n"
   ]
  },
  {
   "cell_type": "markdown",
   "metadata": {},
   "source": [
    "**Task 4c**: Complete the implementation of the function <tt>log_marginal_likelihood</tt>  given below.\n"
   ]
  },
  {
   "cell_type": "code",
   "execution_count": null,
   "metadata": {},
   "outputs": [],
   "source": [
    "def log_marginal_likelihood(X, y, alpha, scale, sigma2):\n",
    "    \"\"\" returns the log marginal likelihood for the data set (X, y) for the hyperparameters alpha, scale, sigma2\n",
    "        The function also returns the components of the log marginal likelihood:\n",
    "        \n",
    "        log_ml = const_term + det_term + quad_term\n",
    "    \n",
    "    Arguments:\n",
    "    X        -- NxD input points\n",
    "    y        -- Nx1 observed values \n",
    "    alpha    -- alpha parameter\n",
    "    scale    -- scale parameter\n",
    "    sigma2   -- noise variance\n",
    "\n",
    "    Returns:\n",
    "    log_ml   -- (scalar) log marginal likelihood ( = const + det + quad)\n",
    "    const    -- constant part of the log marginal lihood\n",
    "    det      -- determinant part of the log marginal lihood\n",
    "    quad     -- quadratic part of the log marginal lihood\n",
    "    \n",
    "    \"\"\"\n",
    "    \n",
    "    ###############################################\n",
    "    # ------- insert code here -------------------\n",
    "    ###############################################\n",
    "        \n",
    "    return log_ml, const_term, det_term, quad_term\n",
    "\n",
    "\n",
    "\n"
   ]
  },
  {
   "cell_type": "markdown",
   "metadata": {},
   "source": [
    "**Task 4d**: Compute and plot the marginal likelihood as a function of the scale parameter in the interval $\\left[0.01, 100\\right]$ using the scales vector (<tt>scales</tt>) given below. In the same figure, you should also plot the determinant and the quadractic part of the marginal likelihood. Note, that the scale values are distributed equally in log-space. Use $\\sigma^2 = 0.5$ and $\\alpha=1$. The scale axis should be logaritmic in the plot. Furthermore, locate the optimal value of the scale and plot the posterior distribution of $f(\\bf{X}_p)$ for the that specific value.\n",
    "\n",
    "**Task 4e**: Compute and plot the MLPPD of the validation set $\\left( \\bf{X}_{\\text{val}}, \\bf{y}_{\\text{val}}\\right)$ as a function of the scale parameter in the interval $\\left[0.01, 100\\right]$ using the scales vector (<tt>scales</tt>) given below. Note, the scale values are distributed equally in log-space. Use $\\sigma^2 = 0.5$ and $\\alpha=1$. The scale axis should be logaritmic in the plot.\n",
    "\n",
    "\n",
    "**Task 4f**: Compare the two plots above and explain what you see. \n"
   ]
  },
  {
   "cell_type": "code",
   "execution_count": null,
   "metadata": {},
   "outputs": [],
   "source": [
    "scales = np.logspace(-2, 2, 100)\n",
    "sigma2=0.5\n",
    "alpha=1\n",
    "\n",
    "###############################################\n",
    "# ------- insert code here -------------------\n",
    "###############################################\n"
   ]
  }
 ],
 "metadata": {
  "kernelspec": {
   "display_name": "Python 3",
   "language": "python",
   "name": "python3"
  },
  "language_info": {
   "codemirror_mode": {
    "name": "ipython",
    "version": 3
   },
   "file_extension": ".py",
   "mimetype": "text/x-python",
   "name": "python",
   "nbconvert_exporter": "python",
   "pygments_lexer": "ipython3",
   "version": "3.8.5"
  }
 },
 "nbformat": 4,
 "nbformat_minor": 4
}
