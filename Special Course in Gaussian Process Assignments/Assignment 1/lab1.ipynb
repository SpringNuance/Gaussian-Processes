{
 "cells": [
  {
   "cell_type": "markdown",
   "metadata": {},
   "source": [
    "# Lab exercise #1: Linear regression and Gaussian distributions"
   ]
  },
  {
   "cell_type": "markdown",
   "metadata": {},
   "source": [
    "CS-E4075 (2021)"
   ]
  },
  {
   "cell_type": "markdown",
   "metadata": {},
   "source": [
    "### Learning objectives"
   ]
  },
  {
   "cell_type": "markdown",
   "metadata": {},
   "source": [
    "The purpose of this exercise is to become familiar with the multivariate Gaussian distribution and the basics of Bayesian inference. \n",
    "\n",
    "After completing the exercise, you should be able to:\n",
    "\n",
    "- Manipulate, implement, and sample from  multivariate Gaussian densities\n",
    "\n",
    "\n",
    "- Explain the role of the prior, likelihood, posterior, and model evidence in Bayesian inference.\n",
    "\n",
    "\n",
    "- Derive the posterior distribution of the regression weight for a ridge regression model. \n",
    "\n",
    "\n",
    "You are only allowed to use the numpy module to solve the exercises and **not** statistics specific modules (e.g scipy.stats or GPy)"
   ]
  },
  {
   "cell_type": "code",
   "execution_count": 2,
   "metadata": {},
   "outputs": [],
   "source": [
    "%matplotlib inline\n",
    "import numpy as np\n",
    "import pylab as plt\n",
    "import seaborn as snb\n",
    "snb.set(font_scale=1.5)"
   ]
  },
  {
   "cell_type": "markdown",
   "metadata": {},
   "source": [
    "### Gaussian linear regression"
   ]
  },
  {
   "cell_type": "markdown",
   "metadata": {},
   "source": [
    "Linear regression is perhaps the most frequently used technique in applied statistics for modelling the relationship between set of a covariates $\\left\\lbrace \\mathbf{x}_n \\right\\rbrace_{n=1}^N$ and a response variable $\\left\\lbrace y_n \\right\\rbrace_{n=1}^N$. More formally, let $\\mathbf{X} \\in \\mathbb{R}^{N \\times D}$ be a design matrix and let  $\\mathbf{y} \\in \\mathbb{R}^N$ be the response variables, then the linear regression model is given by\n",
    "\n",
    "\\begin{align}\n",
    "\\mathbf{y} = \\mathbf{X}\\mathbf{w} + \\mathbf{e},\n",
    "\\end{align}\n",
    "\n",
    "\n",
    "where $\\mathbf{w} \\in \\mathbb{R}^D$ is the regression weights and $\\mathbf{e} \\in \\mathbb{R}^N$ is a noise vector.\n",
    "\n",
    "Assuming isotropic Gaussian noise and imposing a multivariate Gaussian prior on $\\mathbf{w} \\sim \\mathcal{N}\\left(\\mathbf{m}, \\mathbf{S}\\right)$ gives rise to the following joint distribution\n",
    "\n",
    "\n",
    "\\begin{align}\n",
    "p(\\mathbf{y}, \\mathbf{w}) = p\\left(\\mathbf{y}|\\mathbf{w}\\right)p\\left(\\mathbf{w}\\right) = \\mathcal{N}\\left(\\mathbf{y}\\big|\\mathbf{Xw}, \\sigma^2\\mathbf{I}\\right)\\mathcal{N}\\left(\\mathbf{w}\\big|\\mathbf{m}, \\mathbf{S}\\right).\n",
    "\\end{align}\n",
    "\n",
    "\n",
    "In this exercise, we will use the following simple model as running example:\n",
    "\n",
    "\n",
    "\\begin{align}\n",
    "y_n = ax_n + b +  e_n = \\begin{bmatrix}x_n&1\\end{bmatrix}\\begin{bmatrix}a\\\\b\\end{bmatrix} + e_n.\n",
    "\\end{align}\n",
    "\n",
    "\n",
    "That is, $\\mathbf{w} = \\left[a, b\\right]$, where $a$ and $b$ are the slope and intercept of the line, respectively. Furthermore, we will assume $\\mathbf{m} = \\mathbf{0}$, $\\mathbf{S} = 10\\cdot\\mathbf{I}$, and $\\sigma^2 = 2$.\n",
    "\n"
   ]
  },
  {
   "cell_type": "markdown",
   "metadata": {},
   "source": [
    "We will use the following data set with $N = 20$ data points"
   ]
  },
  {
   "cell_type": "code",
   "execution_count": 3,
   "metadata": {},
   "outputs": [
    {
     "data": {
      "image/png": "[encoded data removed]",
      "text/plain": [
       "<Figure size 432x288 with 1 Axes>"
      ]
     },
     "metadata": {},
     "output_type": "display_data"
    }
   ],
   "source": [
    "# hyperparameters of the prior\n",
    "m = np.zeros((2, 1))\n",
    "S = 10*np.identity(2)\n",
    "\n",
    "# noise variance\n",
    "sigma2 = 2\n",
    "\n",
    "# data\n",
    "N = 20\n",
    "x = np.array([1.764, 0.4, 0.979, 2.241, 1.868, -0.977,  0.95, -0.151, -0.103, 0.411, 0.144, 1.454, 0.761, 0.122,\n",
    "              0.444, 0.334, 1.494, -0.205,  0.313, -0.854])[:, None]\n",
    "y = np.array([-0.464, 2.024, 3.191, 2.812, 6.512, -3.022, 1.99, 0.009, 2.513, 3.194, 0.935, 3.216, 0.386, -2.118,\n",
    "               0.674, 1.222, 4.481, 1.893, 0.422,  -1.209])[:, None]\n",
    "\n",
    "# plot\n",
    "plt.plot(x, y, 'k.', label='Data', markersize=12)\n",
    "plt.xlabel('Input x')\n",
    "plt.ylabel('Response y')\n",
    "plt.legend()\n",
    "plt.xlim((-3, 3))\n",
    "plt.ylim((-6, 6));"
   ]
  },
  {
   "cell_type": "markdown",
   "metadata": {},
   "source": [
    "### Task 1: The prior, likelihood and posterior"
   ]
  },
  {
   "cell_type": "markdown",
   "metadata": {},
   "source": [
    "The purpose of this task is to implement the basic building blocks of the linear model. In the cells below, you are given a set of function templates and the task is to complete the implementations as specified below.\n",
    "\n",
    "Hint: look for Rasmussen book section 2.1 (http://www.gaussianprocess.org/gpml/)"
   ]
  },
  {
   "cell_type": "markdown",
   "metadata": {},
   "source": [
    "- **Task 1a**: Implement the multivariate gaussian density function using numpy (Hint: to avoid numerical problems, always add a small diagonal constant to covariance matrices)\n",
    "\n",
    "\\begin{align}\n",
    "N(x | \\mu, \\Sigma ) = (2\\pi)^{-\\frac{D}{2}} | \\Sigma |^{-\\frac{1}{2}} \\exp\\left[-\\frac{1}{2}(x - \\mu)^T \\Sigma^{-1} (x - \\mu) \\right]\n",
    "\\end{align}\n",
    "\n"
   ]
  },
  {
   "cell_type": "code",
   "execution_count": 4,
   "metadata": {},
   "outputs": [],
   "source": [
    "def mvn_pdf(x, mu, Sigma, log=True):\n",
    "    \"\"\" Returns the log density of a multivariate Gaussian distribution\n",
    "    with mean mu and covariace Sigma at point x\n",
    "    \n",
    "    Arguments:\n",
    "    x     -- (Dx1) evaluation point\n",
    "    mu    -- (Dx1) mean vector\n",
    "    Sigma -- (DxD) covariance matrix\n",
    "    log   -- (bool) if true, return log density. If false, return (default=True)\n",
    "      \n",
    "    Returns:\n",
    "    (scalar) density\n",
    "    \"\"\"\n",
    "\n",
    "    ###############################################\n",
    "    # ------- insert code here -------------------\n",
    "    ###############################################\n",
    "    "
   ]
  },
  {
   "cell_type": "markdown",
   "metadata": {},
   "source": [
    "- **Task 1b**: Implement functions to evaluate log density of the (i) prior, (ii) likelihood and (iii) posterior using the <tt>mvn_pdf</tt> function above. Hint: Use the function <tt>predict(x, a, b)</tt> given below"
   ]
  },
  {
   "cell_type": "code",
   "execution_count": null,
   "metadata": {},
   "outputs": [],
   "source": [
    "def predict(x, a, b):\n",
    "    \"\"\" returns prediction for inputs x given parameter (a,b)\n",
    "    \n",
    "    Arguments:\n",
    "    x    --  (Nx1) vector of inputs\n",
    "    a    --  slope parameter\n",
    "    b    --  intercept parameter\n",
    "    \n",
    "    Returns:\n",
    "    (Nx1) vector of predictions\n",
    "    \"\"\"\n",
    "    return a*x + b\n",
    "\n",
    "\n",
    "def log_prior(a, b):\n",
    "    \"\"\" returns the log density of the prior at the points (a,b) given m and S\n",
    "    \n",
    "    Arguments:\n",
    "    a    -- (scalar) slope parameter\n",
    "    b    -- (scalar) intercept parameters\n",
    "    \n",
    "    Returns\n",
    "    (scalar) log density for the pair (a,b)\n",
    "    \n",
    "    \"\"\"\n",
    "    \n",
    "    ###############################################\n",
    "    # ------- insert code here -------------------\n",
    "    ###############################################\n",
    "    \n",
    "\n",
    "\n",
    "def log_likelihood(x, y, a, b):\n",
    "    \"\"\" returns the log likelihood for the data (x,y) given the parameters (a,b)\n",
    "    \n",
    "    Arguments:\n",
    "    x    -- (Nx1) vector of inputs\n",
    "    y    -- (Nx1) vector of responses\n",
    "    a    --  slope parameter\n",
    "    b    --  intercept parameter\n",
    "    \n",
    "    Returns:\n",
    "    (scalar) log likelihood of (x,y) \n",
    "    \"\"\"\n",
    "    \n",
    "    ###############################################\n",
    "    # ------- insert code here -------------------\n",
    "    ###############################################\n",
    "    \n",
    "\n",
    "\n",
    "def log_posterior(x, y, a, b):\n",
    "    \"\"\" returns the log posterior for the data (x,y) given the parameters (a,b)\n",
    "    \n",
    "    Arguments:\n",
    "    x    -- (Nx1) vector of inputs\n",
    "    y    -- (Nx1) vector of responses\n",
    "    a    --  slope parameter\n",
    "    b    --  intercept parameter\n",
    "    \n",
    "    Returns:\n",
    "    (scalar) log posterior of (x,y)\n",
    "    \"\"\"\n",
    "    \n",
    "    ###############################################\n",
    "    # ------- insert code here -------------------\n",
    "    ###############################################\n",
    "    \n",
    "\n"
   ]
  },
  {
   "cell_type": "markdown",
   "metadata": {},
   "source": [
    "- **Task 1c**: The goal of this task is to make contour plots of the prior density, the likelihood and the posterior as a function of (a,b) in the intervals $-6 \\leq a \\leq 6$ and $-6 \\leq b \\leq 6$, respectively, by completing the implementation of the functions: <tt>plot_prior_density</tt>,  <tt>plot_likelihood</tt>,  <tt>plot_posterior_density</tt> given below. \n",
    "\n",
    "Hint: Check the numpy function <tt>meshgrid</tt> and pyplot function <tt>contour</tt> to plot 2D densities."
   ]
  },
  {
   "cell_type": "code",
   "execution_count": 4,
   "metadata": {},
   "outputs": [
    {
     "data": {
      "image/png": "[encoded data removed]",
      "text/plain": [
       "<Figure size 1296x432 with 3 Axes>"
      ]
     },
     "metadata": {},
     "output_type": "display_data"
    }
   ],
   "source": [
    "\n",
    "def plot_prior_density():\n",
    "    \n",
    "    ###############################################\n",
    "    # ------- insert code here -------------------\n",
    "    ###############################################\n",
    "    \n",
    "    plt.xlabel('slope')\n",
    "    plt.ylabel('intercept');\n",
    "    \n",
    "def plot_likelihood(x, y):\n",
    "    \n",
    "    ###############################################\n",
    "    # ------- insert code here -------------------\n",
    "    ###############################################\n",
    "    \n",
    "    plt.xlabel('slope')\n",
    "    plt.ylabel('intercept');\n",
    "\n",
    "def plot_posterior_density(x, y):\n",
    "\n",
    "    ###############################################\n",
    "    # ------- insert code here -------------------\n",
    "    ###############################################\n",
    "    \n",
    "    plt.xlabel('slope')\n",
    "    plt.ylabel('intercept');\n",
    "\n",
    "    \n",
    "# plot\n",
    "plt.figure(figsize=(18,6))\n",
    "plt.subplot(1, 3, 1)\n",
    "plot_prior_density()\n",
    "plt.title('Prior')\n",
    "\n",
    "plt.subplot(1, 3, 2)\n",
    "plot_likelihood(x, y)\n",
    "plt.title('Likelihood')\n",
    "\n",
    "plt.subplot(1, 3, 3)\n",
    "plot_posterior_density(x, y)\n",
    "plt.title('Posterior');"
   ]
  },
  {
   "cell_type": "markdown",
   "metadata": {},
   "source": [
    "### Task 2: Analytical expression of the posterior distribution"
   ]
  },
  {
   "cell_type": "markdown",
   "metadata": {},
   "source": [
    "- **Task 2a**: Show that the posterior is given by $p(\\mathbf{w}\\big|\\mathbf{y}) = \\mathcal{N}\\left(\\mathbf{w}\\big|\\mu, \\Sigma\\right)$, where\n",
    "\n",
    "\n",
    "\\begin{align}\n",
    "\\Sigma &= \\left(\\frac{1}{\\sigma^2}\\mathbf{X}^T\\mathbf{X} + \\mathbf{S}^{-1}\\right)^{-1}\\\\\n",
    "\\mu &= \\Sigma\\left(\\frac{1}{\\sigma^2}\\mathbf{X}^T\\mathbf{y} + \\mathbf{S}^{-1}\\mathbf{m}\\right)\n",
    "\\end{align}\n",
    "\n",
    "Hints:\n",
    "1. Use Bayes rule to obtain an expression for the posterior $p(\\mathbf{w}\\big|\\mathbf{y})$ in terms of the prior, likehood and marginal likelihood\n",
    "2. Take the logarithm on both sides and expand the right hand side\n",
    "3. Conclude that only a subset of the terms depends on $\\mathbf{w}$. Replace all terms independent of $\\mathbf{w}$ with a constant\n",
    "4. Argue that the posterior distribution must be Gaussian as the remaining terms on the right hand side is a quadratic function of $\\mathbf{w}$. \n",
    "5. Determine the posterior mean and covariance by 'completing the square' or by comparing the coefficients of the quadractic functions to the logarithm of a multivariate Guassian distribution with mean $\\mu$ and covariance $\\Sigma$.\n",
    "\n",
    "For background see Rasmussen section 2.1.1.\n",
    "\n",
    "***Write your derivation here *** \n",
    "\n",
    "You can write in latex or you can also write it using pen and paper and attach a photo."
   ]
  },
  {
   "cell_type": "markdown",
   "metadata": {},
   "source": [
    "- **Task 2b**: Complete the implementation of the function for computing the analytical posterior distribution given below. Hint: The function <tt>design_matrix</tt> maps from a vectors of input $\\mathbf{x}$ to the design matrix $\\mathbf{X}$."
   ]
  },
  {
   "cell_type": "code",
   "execution_count": 8,
   "metadata": {},
   "outputs": [],
   "source": [
    "def design_matrix(x):\n",
    "    \"\"\" returns the design matrix for a vector of input values x \n",
    "    \n",
    "    Arguments:\n",
    "    x    -- (Nx1) vector of inputs\n",
    "    \n",
    "    Returns:\n",
    "    (Nx2) design matrix\n",
    "    \n",
    "    \"\"\"\n",
    "    X = np.column_stack((x, np.ones(len(x))))\n",
    "    return X\n",
    "\n",
    "def compute_posterior(x, y, m, S, sigma2):\n",
    "    \"\"\" return the posterior mean and covariance of w given (x,y) \n",
    "    and hyperparameters m, S and sigma2\n",
    "    \n",
    "    Arguments:\n",
    "    x      -- (Nx1) vector of inputs\n",
    "    y      -- (Nx1) vector of responses\n",
    "    m      -- (Dx1) prior mean\n",
    "    S      -- (DxD) prior covariance\n",
    "    sigma2 -- (scalar) noise variance\n",
    "    \n",
    "    Returns:\n",
    "    mu     -- (Dx1) posterior mean\n",
    "    Sigma  -- (DxD) posterior covariance\n",
    "    \n",
    "    \"\"\"\n",
    "    \n",
    "    X = design_matrix(x)\n",
    "    \n",
    "    \n",
    "    ###############################################\n",
    "    # ------- insert code here -------------------\n",
    "    ###############################################\n",
    "    \n",
    "    return mu, Sigma\n",
    "    "
   ]
  },
  {
   "cell_type": "markdown",
   "metadata": {},
   "source": [
    "- **Task 2c**: Using the function above, compute the posterior mean and covariance for the data set $(\\mathbf{x}, \\mathbf{y})$. Plot the resulting density and check that it matches the posterior distribution from task 1d."
   ]
  },
  {
   "cell_type": "code",
   "execution_count": null,
   "metadata": {},
   "outputs": [],
   "source": [
    "###############################################\n",
    "# ------- insert code here -------------------\n",
    "###############################################\n",
    "\n"
   ]
  },
  {
   "cell_type": "markdown",
   "metadata": {},
   "source": [
    "### Task 3: Combining all of the above"
   ]
  },
  {
   "cell_type": "markdown",
   "metadata": {},
   "source": [
    "In this task, you will use all the functions you implemented above to perform compute the posterior distribution $p\\left(\\mathbf{w}|\\mathbf{y}\\right)$ for various sizes of $N$. The cell below analyses the data set using $N = \\left\\lbrace 1, 2, 10, 20 \\right\\rbrace$ data points, where the columns visualise (i) data and sample functions, (ii) the prior, (iii) the likelihood and (iv) posterior. \n",
    "\n",
    "- **Task 3a**: The code below is complete, and works without issues if you have implemented all previous tasks. Make sure the code works and you can see the four visualisations.\n",
    "\n",
    "- **Task 3b**: Study the code and plots and explain what you see. How does the blue lines in the first column relate to the blue dots in the fourth column? What happens as the number of samples increase? Why does the prior have so little effect in the last row?\n"
   ]
  },
  {
   "cell_type": "code",
   "execution_count": 15,
   "metadata": {},
   "outputs": [
    {
     "ename": "NameError",
     "evalue": "name 'mu' is not defined",
     "output_type": "error",
     "traceback": [
      "\u001b[0;31m---------------------------------------------------------------------------\u001b[0m",
      "\u001b[0;31mNameError\u001b[0m                                 Traceback (most recent call last)",
      "\u001b[0;32m<ipython-input-15-bbbee096205f>\u001b[0m in \u001b[0;36m<module>\u001b[0;34m\u001b[0m\n\u001b[1;32m     47\u001b[0m \u001b[0;34m\u001b[0m\u001b[0m\n\u001b[1;32m     48\u001b[0m     \u001b[0;31m# compute posterior & generate samples\u001b[0m\u001b[0;34m\u001b[0m\u001b[0;34m\u001b[0m\u001b[0;34m\u001b[0m\u001b[0m\n\u001b[0;32m---> 49\u001b[0;31m     \u001b[0mmu\u001b[0m\u001b[0;34m,\u001b[0m \u001b[0mSigma\u001b[0m \u001b[0;34m=\u001b[0m \u001b[0mcompute_posterior\u001b[0m\u001b[0;34m(\u001b[0m\u001b[0mx\u001b[0m\u001b[0;34m[\u001b[0m\u001b[0;34m:\u001b[0m\u001b[0mn\u001b[0m\u001b[0;34m,\u001b[0m \u001b[0;34m:\u001b[0m\u001b[0;34m]\u001b[0m\u001b[0;34m,\u001b[0m \u001b[0my\u001b[0m\u001b[0;34m[\u001b[0m\u001b[0;34m:\u001b[0m\u001b[0mn\u001b[0m\u001b[0;34m,\u001b[0m \u001b[0;34m:\u001b[0m\u001b[0;34m]\u001b[0m\u001b[0;34m,\u001b[0m \u001b[0mm\u001b[0m\u001b[0;34m,\u001b[0m \u001b[0mS\u001b[0m\u001b[0;34m,\u001b[0m \u001b[0msigma2\u001b[0m\u001b[0;34m)\u001b[0m\u001b[0;34m\u001b[0m\u001b[0;34m\u001b[0m\u001b[0m\n\u001b[0m\u001b[1;32m     50\u001b[0m     \u001b[0mahat\u001b[0m\u001b[0;34m,\u001b[0m \u001b[0mbhat\u001b[0m \u001b[0;34m=\u001b[0m \u001b[0mgenerate_mvn_samples\u001b[0m\u001b[0;34m(\u001b[0m\u001b[0mmu\u001b[0m\u001b[0;34m,\u001b[0m \u001b[0mSigma\u001b[0m\u001b[0;34m,\u001b[0m \u001b[0mM\u001b[0m\u001b[0;34m=\u001b[0m\u001b[0;36m30\u001b[0m\u001b[0;34m)\u001b[0m\u001b[0;34m\u001b[0m\u001b[0;34m\u001b[0m\u001b[0m\n\u001b[1;32m     51\u001b[0m \u001b[0;34m\u001b[0m\u001b[0m\n",
      "\u001b[0;32m<ipython-input-8-698a9153f43f>\u001b[0m in \u001b[0;36mcompute_posterior\u001b[0;34m(x, y, m, S, sigma2)\u001b[0m\n\u001b[1;32m     35\u001b[0m     \u001b[0;31m###############################################\u001b[0m\u001b[0;34m\u001b[0m\u001b[0;34m\u001b[0m\u001b[0;34m\u001b[0m\u001b[0m\n\u001b[1;32m     36\u001b[0m \u001b[0;34m\u001b[0m\u001b[0m\n\u001b[0;32m---> 37\u001b[0;31m     \u001b[0;32mreturn\u001b[0m \u001b[0mmu\u001b[0m\u001b[0;34m,\u001b[0m \u001b[0mSigma\u001b[0m\u001b[0;34m\u001b[0m\u001b[0;34m\u001b[0m\u001b[0m\n\u001b[0m\u001b[1;32m     38\u001b[0m \u001b[0;34m\u001b[0m\u001b[0m\n",
      "\u001b[0;31mNameError\u001b[0m: name 'mu' is not defined"
     ]
    },
    {
     "data": {
      "text/plain": [
       "<Figure size 1440x2160 with 0 Axes>"
      ]
     },
     "metadata": {},
     "output_type": "display_data"
    }
   ],
   "source": [
    "def generate_mvn_samples(mu, Sigma, M):\n",
    "    \"\"\" return samples from a multivariate normal distribution N(mu, Sigma)\n",
    "\n",
    "    Arguments:\n",
    "    mu      -- (Dx1) mean vector\n",
    "    Sigma   -- (DxD) covariance matrix\n",
    "    M       -- (scalar) number of samples\n",
    "    \n",
    "    Returns:\n",
    "    (DxM) matrix, where each column corresponds to a sample\n",
    "    \"\"\"\n",
    "    \n",
    "    jitter = 1e-8\n",
    "    D = len(mu)\n",
    "    L = np.linalg.cholesky(Sigma + jitter*np.identity(D))\n",
    "    zs = np.random.normal(0, 1, size=(D, M))\n",
    "    fs = mu + np.dot(L, zs)\n",
    "    return fs\n",
    "\n",
    "def compute_f_posterior(x, mu, Sigma):\n",
    "    \"\"\" compute the posterior distribution of f(x) wrt. posterior distribution N(mu, Sigma) \n",
    "    \n",
    "    Arguments:\n",
    "    x      -- (Nx1) vector of inputs\n",
    "    mu     -- (2x1) mean vector\n",
    "    Sigma  -- (2x2) covariance matrix\n",
    "    \n",
    "    Returns:\n",
    "    mu_f   -- (Nx1) vector of pointwise posterior means at x\n",
    "    var_f  -- (Nx1) vector of pointwise posterior variances at x\n",
    "    \n",
    "    \"\"\"\n",
    "    \n",
    "    X = np.column_stack((x, np.ones(len(x))))\n",
    "    mu_f = np.dot(X, mu)\n",
    "    var_f = np.diag(np.dot(np.dot(X, Sigma), X.T))[:, None]\n",
    "        \n",
    "    return mu_f, var_f\n",
    "\n",
    "\n",
    "np.random.seed(0)\n",
    "\n",
    "xp = np.linspace(-3, 3, 50)[:, None]\n",
    "\n",
    "plt.figure(figsize=(20, 30))    \n",
    "for idx_n, n in enumerate([1, 2, 10, 20]):\n",
    "    \n",
    "    # compute posterior & generate samples\n",
    "    mu, Sigma = compute_posterior(x[:n, :], y[:n, :], m, S, sigma2)\n",
    "    ahat, bhat = generate_mvn_samples(mu, Sigma, M=30)\n",
    "  \n",
    "    # plot\n",
    "    plt.subplot2grid((5, 4), (idx_n, 0))\n",
    "    plt.plot(x[:n, :], y[:n, :], 'k.', markersize=12)\n",
    "    plt.ylabel('N = %d' % n, fontweight='bold')    \n",
    "    for (ai, bi) in zip(ahat, bhat):\n",
    "        plt.plot(xp, predict(xp, ai, bi), 'b-', alpha=0.25)\n",
    "        \n",
    "    mu_f, var_f = compute_f_posterior(xp, mu, Sigma)\n",
    "    std_f = np.sqrt(var_f)\n",
    "\n",
    "    plt.plot(xp, mu_f, 'r')\n",
    "    plt.plot(xp, mu_f + 2*std_f, 'r--')\n",
    "    plt.plot(xp, mu_f - 2*std_f, 'r--')\n",
    "    \n",
    "    if idx_n == 0:\n",
    "        plt.title('Data points', fontweight='bold')\n",
    "        \n",
    "    plt.subplot2grid((5, 4), (idx_n, 1))\n",
    "    plot_prior_density()\n",
    "    \n",
    "    if idx_n == 0:\n",
    "        plt.title('Prior', fontweight='bold')\n",
    "\n",
    "    plt.subplot2grid((5, 4), (idx_n, 2))\n",
    "    plot_likelihood(x[:n, :], y[:n, :])\n",
    "       \n",
    "    if idx_n == 0:\n",
    "        plt.title('Likelihood', fontweight='bold')\n",
    "    \n",
    "    \n",
    "    plt.subplot2grid((5, 4), (idx_n, 3))\n",
    "    plot_posterior_density(x[:n, :], y[:n, :])\n",
    "    plt.plot(ahat, bhat, 'b.', markersize=10)\n",
    "        \n",
    "    \n",
    "    if idx_n == 0:\n",
    "        plt.title('Posterior', fontweight='bold')\n"
   ]
  },
  {
   "cell_type": "code",
   "execution_count": null,
   "metadata": {},
   "outputs": [],
   "source": []
  }
 ],
 "metadata": {
  "kernelspec": {
   "display_name": "Python 3",
   "language": "python",
   "name": "python3"
  },
  "language_info": {
   "codemirror_mode": {
    "name": "ipython",
    "version": 3
   },
   "file_extension": ".py",
   "mimetype": "text/x-python",
   "name": "python",
   "nbconvert_exporter": "python",
   "pygments_lexer": "ipython3",
   "version": "3.8.5"
  }
 },
 "nbformat": 4,
 "nbformat_minor": 4
}
