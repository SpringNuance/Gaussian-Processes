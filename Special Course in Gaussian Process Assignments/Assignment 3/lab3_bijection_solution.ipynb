{
 "cells": [
  {
   "cell_type": "markdown",
   "metadata": {
    "id": "2U5gjTQc669x"
   },
   "source": [
    "# Lab exercise #3: Approximate inference for Gaussian Process models"
   ]
  },
  {
   "cell_type": "markdown",
   "metadata": {
    "id": "I9P9BLdN66-G"
   },
   "source": [
    "CS-E4075, 2021"
   ]
  },
  {
   "cell_type": "markdown",
   "metadata": {
    "id": "pcf_7Eal66-J"
   },
   "source": [
    "## Learning objectives"
   ]
  },
  {
   "cell_type": "markdown",
   "metadata": {
    "id": "mUv6IOU_66-L"
   },
   "source": [
    "After completing this lab exercise, you should be able to:\n",
    "\n",
    "- Implement Variational inference for GP classification\n",
    "\n",
    "\n",
    "**/!\\ Important Notes /!\\**\n",
    "* In this notebook, we **won't** be implementing sparse GPs (the approximation using inducing points). However, completing this notebook will give you all the tools and building blocks to implement them.\n",
    "* For speed purposes, it is highly recommended to use an automatic differentiation framework such as tensorflow or pytorch. (optimization using numpy/scipy also works, but will be much slower!). Examples and hints in this notebook are using tensorflow but can be adapted to run in alternative frameworks.\n",
    "* All exercises must be solved using only basic mathematical operations (exp, erf, ...) and linear algebra routines (solve, matrix-vector products, ...)\n",
    "\n"
   ]
  },
  {
   "cell_type": "markdown",
   "metadata": {
    "id": "C37jb-UxOKue"
   },
   "source": [
    "**A mini tutorial on automatic differentiation**\n",
    "\n",
    "When using an automatic differentiation framework to optimize a function $f: \\theta \\to f(\\theta)$, the variable $\\theta$ and/or the operations mapping from $\\theta$ to $f(\\theta)$ must be defined using operators from the framework.\n",
    "\n",
    "For example to optimize $e^{\\theta}+e^{-\\theta}$ with respect to $\\theta$ with tensorflow, you need to proceed as follows:\n"
   ]
  },
  {
   "cell_type": "code",
   "execution_count": 1,
   "metadata": {
    "colab": {
     "base_uri": "https://localhost:8080/"
    },
    "id": "6QFiiuNGOL3z",
    "outputId": "a8dd00e3-a50c-4163-b1d0-0d5b2b174364"
   },
   "outputs": [
    {
     "name": "stdout",
     "output_type": "stream",
     "text": [
      "0 <tf.Variable 'Variable:0' shape=() dtype=float32, numpy=0.976496>\n",
      "100 <tf.Variable 'Variable:0' shape=() dtype=float32, numpy=0.1199726>\n",
      "200 <tf.Variable 'Variable:0' shape=() dtype=float32, numpy=0.015891422>\n",
      "300 <tf.Variable 'Variable:0' shape=() dtype=float32, numpy=0.0021074635>\n",
      "400 <tf.Variable 'Variable:0' shape=() dtype=float32, numpy=0.0002794935>\n",
      "500 <tf.Variable 'Variable:0' shape=() dtype=float32, numpy=3.706653e-05>\n",
      "600 <tf.Variable 'Variable:0' shape=() dtype=float32, numpy=4.913991e-06>\n",
      "700 <tf.Variable 'Variable:0' shape=() dtype=float32, numpy=6.492792e-07>\n",
      "800 <tf.Variable 'Variable:0' shape=() dtype=float32, numpy=8.5419515e-08>\n",
      "900 <tf.Variable 'Variable:0' shape=() dtype=float32, numpy=2.9391202e-08>\n"
     ]
    }
   ],
   "source": [
    "import tensorflow as tf\n",
    "\n",
    "# define the theta variable\n",
    "theta = tf.Variable(1., dtype=tf.float32)\n",
    "# define the function\n",
    "f = lambda x: tf.exp(x) + tf.exp(-x) # note the use of the tf.exp operation (not np.exp)\n",
    "# run the optimization\n",
    "for t in range(1000):\n",
    "  # at each step, compute the gradients\n",
    "  with tf.GradientTape() as tape:\n",
    "    tape.watch(theta)\n",
    "    loss = f(theta)\n",
    "  gradient = tape.gradient(loss, theta)\n",
    "  # apply the variable update (gradient descent)\n",
    "  theta.assign(theta - 0.01*gradient)\n",
    "  if t % 100 == 0:\n",
    "    print(t, theta)   "
   ]
  },
  {
   "cell_type": "code",
   "execution_count": 2,
   "metadata": {
    "id": "FBLZZULA66-O"
   },
   "outputs": [],
   "source": [
    "%matplotlib inline\n",
    "import numpy as np\n",
    "import math\n",
    "import matplotlib.pyplot as plt\n",
    "\n",
    "import tensorflow as tf\n",
    "\n",
    "\n",
    "import tensorflow_probability as tfp\n",
    "tfb = tfp.bijectors\n",
    "b = tfb.FillScaleTriL(diag_bijector=tfb.Exp())"
   ]
  },
  {
   "cell_type": "markdown",
   "metadata": {
    "id": "8I1b-PLC66-R"
   },
   "source": [
    "## Task 1: Variational inference for Gaussian Process Classification"
   ]
  },
  {
   "cell_type": "markdown",
   "metadata": {
    "id": "HB5AYW3W66-V"
   },
   "source": [
    "We are interested in the problem of Gaussian Process classification. \n",
    "\n",
    "We have some data $\\mathcal{D} = \\left\\lbrace {\\bf x}_n, y_n \\right\\rbrace_{n=1}^N$, with $y_n \\in \\{-1,1\\}$.\n",
    "\n",
    "We want to perform inference in the following generative model\n",
    "$$ f \\sim GP(0, k)$$\n",
    "$$ p(y_n=1|{\\bf x}_n) = \\phi(y_n * f_n),$$\n",
    "with $\\phi$ the normal cumulative distribution function $\\phi(x)=\\int_{-\\infty}^x {\\cal N}(u; 0,1)du$.\n",
    "\n",
    "We will here use a RBF kernel, with two parameters: lengthscale $l$ and variance $\\sigma^2$.\n",
    "\n",
    "\n",
    "The posterior is $p({\\bf f}|{\\bf y}) \\propto p({\\bf y}|{\\bf f})p({\\bf f})$ is intractable, hence we resort to an approximate inference scheme called variational inference.\n",
    "\n",
    "This turns inference into optimization. We optimize the distance $d(q) = KL[q({\\bf f})||p({\\bf f}|{\\bf y})] \\geq 0$, with respect to a distribution $q({\\bf f})$\n",
    "\n",
    "We parameterize $q$ through the mean vector $m$ and the Cholesky factor of the covariance $L$: i.e. $q({\\bf f})={\\cal N}({\\bf f}|m, S=LL^T)$\n",
    "\n",
    "In practice we optimize the ELBO:\n",
    "$${\\cal L}(q) = \\log p({\\bf y})-d(q) = \n",
    "\\underbrace{\\mathbb{E}_q \\log p({\\bf y}|{\\bf f})}_{VE} \n",
    "- \\underbrace{KL(q({\\bf f})||p({\\bf f}))}_{KL}$$\n",
    "\n",
    "We split the ELBO into two terms\n",
    "* variational expectations (VE)\n",
    "* Kullback Leibler (KL)\n"
   ]
  },
  {
   "cell_type": "markdown",
   "metadata": {
    "id": "s6XskkCP66-X"
   },
   "source": [
    "### Task 1a: KL divergence\n",
    "\n",
    "For a prior $p({\\bf f})={\\cal N}({\\bf f}|0,K)$ and a variational distribution $q({\\bf f})={\\cal N}({\\bf f}|m, S=LL^T)$, compute the KL divergence $KL(q({\\bf f})||p({\\bf f}))$\n",
    "\n",
    "You can use the formula :\n",
    "$$\n",
    "\\begin{align*}\n",
    "&KL\\left(\\mathcal{N}(\\mu_0,\\Sigma_0) \\parallel \\mathcal{N}(\\mu_1,\\Sigma_1)\\right) \\\\ \n",
    " &= \\frac{1}{2}\\left(\n",
    "    \\operatorname{tr}\\left(\\Sigma_1^{-1}\\Sigma_0\\right) +\n",
    "    \\left(\\mu_1 - \\mu_0\\right)^\\mathsf{T} \\Sigma_1^{-1}\\left(\\mu_1 - \\mu_0\\right) - k +\n",
    "    \\ln\\frac{|\\Sigma_1|}{|\\Sigma_0|}\n",
    "  \\right),\\; (source: wikipedia)\\\\\n",
    "  &= \\dots \\quad \\text{ (bonus : can you fill the gap?)}\\\\\n",
    "    &=\n",
    "  \\frac{1}{2}\\left(\n",
    "    \\sum_{ij} (L_1^{-1}L_0)^2_{ij} +\n",
    "    ||L_1^{-1}\\left(\\mu_1 - \\mu_0\\right)||^2 - k + 2\\sum_{i}\n",
    "    \\ln |L_{1,ii}|- \\ln|L_{0,ii}|\n",
    "  \\right).\n",
    "  \\end{align*}\n",
    "  $$\n",
    "\n",
    "**Note**: this needs to be adapted to the (mean,cholesky) parameterization of the multivariate Gaussian distributions.\n"
   ]
  },
  {
   "cell_type": "code",
   "execution_count": 3,
   "metadata": {
    "collapsed": true,
    "id": "sW7T2ux_66-Y"
   },
   "outputs": [],
   "source": [
    "def KL(m0, L0_const, m1, L1_const):\n",
    "    \"\"\" returns the KL divergence between N(m0, S0) and N(m1, S1)\n",
    "    \n",
    "    arguments:\n",
    "    m0, m1   -- N x 1, mean vector\n",
    "    L0, L1   -- N x N, Cholesky factor of a covariance matrix \n",
    "    returns a scalar\n",
    "    \"\"\"\n",
    "    \n",
    "    ###############################################\n",
    "    # ------- insert code here -------------------\n",
    "    ###############################################\n",
    "    \n",
    "    #############!! SOLUTION !!####################\n",
    "    L0 = b.forward(L0_const)\n",
    "    L1 = b.forward(L1_const)\n",
    "\n",
    "    N = len(m1)\n",
    "    iL1L0 = tf.linalg.triangular_solve(L1, L0)\n",
    "    term1 = tf.reduce_sum(iL1L0**2)\n",
    "    \n",
    "    iL1dmu = tf.linalg.triangular_solve(L1,m1 - m0)\n",
    "    term2 = tf.reduce_sum(iL1dmu**2)\n",
    "    cst = -N\n",
    "    \n",
    "    term3 = 2 * tf.reduce_sum(tf.abs(tf.linalg.diag_part(L1)) -\n",
    "                 tf.abs(tf.linalg.diag_part(L0)))\n",
    "    \n",
    "    return 0.5 * (term1 + term2 + term3 + cst)\n",
    "    #############!! SOLUTION !!####################\n"
   ]
  },
  {
   "cell_type": "markdown",
   "metadata": {
    "id": "33m5cg2UIl-F"
   },
   "source": [
    "Let's check that the KL is coded properly.\n",
    "\n",
    "For instance, noting $q_0(f) = N(f|0, I)$ and $q_1(f) = N(f|0, 2I)$, \n",
    "we should have:\n",
    "* $KL[q_0||q_0] = 0$\n",
    "* $KL[q_0||q_1] > 0$ \n",
    "\n"
   ]
  },
  {
   "cell_type": "code",
   "execution_count": 4,
   "metadata": {
    "id": "7tl6dFfAJQz5"
   },
   "outputs": [],
   "source": [
    "K = 10\n",
    "m_0 = m_1 = np.zeros((K,1))\n",
    "L_0 = tf.constant(np.eye(K), dtype=tf.float32)\n",
    "L_1 = tf.constant(np.sqrt(2.) * np.eye(K), dtype=tf.float32)\n",
    "\n",
    "L_0_const = b.inverse(L_0)\n",
    "L_1_const = b.inverse(L_1)\n",
    "\n",
    "assert KL(m_0, L_0_const, m_0, L_0_const) == 0\n",
    "assert KL(m_0, L_0_const, m_1, L_1_const) >= 0"
   ]
  },
  {
   "cell_type": "markdown",
   "metadata": {
    "id": "w9zp6Q-W66-a"
   },
   "source": [
    "### Task 1b: Variational expectations\n",
    "\n",
    "To compute the variational expectations $\\mathbb{E}_{q(f_n)} \\log p(y_n|f_n)$, we first need to compute the marginal distribution $q(f_n)$ and then compute the expectation.\n"
   ]
  },
  {
   "cell_type": "code",
   "execution_count": 5,
   "metadata": {
    "collapsed": true,
    "id": "onU4NYnp66-b"
   },
   "outputs": [],
   "source": [
    "def q_marginals(m, L_const):\n",
    "    \"\"\" returns the vectors of marginal means and marginal variances\n",
    "    i.e, the means and variances of q(f_n)\n",
    "    \n",
    "    arguments:\n",
    "    m   -- N x 1, mean vector\n",
    "    L   -- N x N, Cholesky factor of a covariance matrix \n",
    "    returns : 2 N x 1 vectors\n",
    "    \"\"\"\n",
    "    \n",
    "    ###############################################\n",
    "    # ------- insert code here -------------------\n",
    "    ###############################################\n",
    "\n",
    "    #############!! SOLUTION !!####################\n",
    "    L = b.forward(L_const)\n",
    "\n",
    "    cii = tf.reduce_sum(L**2, axis=1, keepdims=True)\n",
    "    return m, cii\n",
    "    #############!! SOLUTION !!####################\n",
    "\n"
   ]
  },
  {
   "cell_type": "code",
   "execution_count": 6,
   "metadata": {
    "collapsed": true,
    "id": "qq0NMMtr66-d"
   },
   "outputs": [],
   "source": [
    "\n",
    "def phi(x):\n",
    "    \"\"\" Cumulative distribution function for the standard normal distribution \n",
    "    Hint: you may want to use the error function. (tf.math.erf if using tensorflow)\n",
    "\n",
    "    phi(x) = int_{-\\infty, x} N(u| 0, 1) du    \n",
    "    \"\"\"\n",
    "    ###############################################\n",
    "    # ------- insert code here -------------------\n",
    "    ###############################################\n",
    "    \n",
    "    #############!! SOLUTION !!####################\n",
    "    return (1.0 + tf.math.erf(x / np.sqrt(2.0))) / 2.0\n",
    "    #############!! SOLUTION !!####################\n",
    "\n",
    "def classif_log_likelihood(f, y):\n",
    "    \"\"\" log p(y|f) for classification using the normal cdf \n",
    "        log p(y|f) = log phi(y * f)\n",
    "    \"\"\"\n",
    "    ###############################################\n",
    "    # ------- insert code here -------------------\n",
    "    ###############################################\n",
    "\n",
    "    #############!! SOLUTION !!####################\n",
    "    return tf.math.log(phi(f * y))\n",
    "    #############!! SOLUTION !!####################\n",
    "    \n",
    "# --------------------------------------\n",
    "# The next function is given to you.\n",
    "# It approximates E_q(f_n) log p(y_n|f_n) via Gaussian quadrature\n",
    "# see: https://en.wikipedia.org/wiki/Gauss%E2%80%93Hermite_quadrature\n",
    "# --------------------------------------\n",
    "def expected_log_likelihood(\n",
    "    means, covs, llh, y, n_gh=10):\n",
    "    \"\"\" returns the expected log likelihood terms\n",
    "    \n",
    "    E_q(f_n) log p(y_n|f_n)\n",
    "    \n",
    "    This is a quadrature approximation, \n",
    "    turning the integral into a sum.\n",
    "        \n",
    "    arguments:\n",
    "    means  -- N x 1, vector of means\n",
    "    covs  -- N x 1, vector of covariances \n",
    "    llh -- log likelihood function\n",
    "    y  -- N x 1, vector of observed labels \n",
    "    \"\"\"\n",
    "    z, dz = np.polynomial.hermite.hermgauss(n_gh)\n",
    "    weights = (dz / np.sqrt(np.pi)).reshape(1, -1) # 1 x n_gh \n",
    "    inputs = means + np.sqrt(2 * covs) * z.reshape(1, -1) # N x n_gh\n",
    "    llh_quad = weights * llh(inputs, y) # N x n_gh\n",
    "\n",
    "    # 'tf.reduce_sum' is tensorflow's summing function, \n",
    "    # replace if using another framework  \n",
    "    return tf.reduce_sum(llh_quad, axis=1) # N, "
   ]
  },
  {
   "cell_type": "markdown",
   "metadata": {
    "id": "JUCd3aeN66-e"
   },
   "source": [
    "### Task 1c: ELBO\n",
    "\n",
    "We are now ready to implement the ELBO as the difference between the variational expectations and the KL divergence:\n",
    "\n",
    "$${\\cal L}(q) = \n",
    "\\underbrace{\\mathbb{E}_q \\log p({\\bf y}|{\\bf f})}_{VE} \n",
    "- \\underbrace{KL(q({\\bf f})||p({\\bf f}))}_{KL}$$\n",
    "\n",
    "\n"
   ]
  },
  {
   "cell_type": "code",
   "execution_count": 7,
   "metadata": {
    "collapsed": true,
    "id": "D_XH9m0U66-e"
   },
   "outputs": [],
   "source": [
    "def elbo(m_p, L_p_const, m_q, L_q_const, y):\n",
    "    \"\"\" returns ELBO\n",
    "    L = \\sum_n E_q(f_n) log p(y_n|f_n)\n",
    "        + KL(q(f)||p(f))\n",
    "        \n",
    "    (See slides of lecture 4 for closed form solution)\n",
    "    \n",
    "    arguments:\n",
    "    L_p, L_q  -- N x N, Cholesky factors of the covariances of p and q\n",
    "    m_p, m_q -- N x 1, mean vector of p and q\n",
    "    returns: a scalar\n",
    "    \"\"\"\n",
    "    \n",
    "    ###############################################\n",
    "    # ------- insert code here -------------------\n",
    "    ###############################################\n",
    "\n",
    "    #############!! SOLUTION !!####################\n",
    "    means, covs = q_marginals(m_q, L_q_const)\n",
    "    ve = expected_log_likelihood(means, covs, classif_log_likelihood, y)\n",
    "    kl = KL(m_q, L_q_const, m_p, L_p_const)\n",
    "    return tf.reduce_sum(ve) - kl\n",
    "    #############!! SOLUTION !!####################\n",
    "\n",
    "    "
   ]
  },
  {
   "cell_type": "markdown",
   "metadata": {
    "id": "3fRRI2op66-f"
   },
   "source": [
    "### Task 1d: Inference as optimization\n",
    "\n",
    "We are now ready to optimize the ELBO.\n",
    "We will first load some data"
   ]
  },
  {
   "cell_type": "code",
   "execution_count": 8,
   "metadata": {
    "colab": {
     "base_uri": "https://localhost:8080/",
     "height": 324
    },
    "id": "jT-nKs_w66-g",
    "outputId": "63c00f7e-1302-4ca0-c00c-c61e229221f1"
   },
   "outputs": [
    {
     "data": {
      "text/plain": [
       "Text(0.5, 1.0, 'Classification data')"
      ]
     },
     "execution_count": 8,
     "metadata": {
      "tags": []
     },
     "output_type": "execute_result"
    },
    {
     "data": {
      "image/png": "[encoded data removed]",
      "text/plain": [
       "<Figure size 432x288 with 1 Axes>"
      ]
     },
     "metadata": {
      "needs_background": "light",
      "tags": []
     },
     "output_type": "display_data"
    }
   ],
   "source": [
    "# Loading the data\n",
    "\n",
    "import csv\n",
    "XY = []\n",
    "with open(\"./XY.csv\") as csvfile:\n",
    "    reader = csv.reader(csvfile, quoting=csv.QUOTE_NONNUMERIC) # change contents to floats\n",
    "    for row in reader: # each row is a list\n",
    "        XY.append(row)\n",
    "XY = np.array(XY)\n",
    "\n",
    "# Here we select a subset of the data. (remember computations scales as N^3)\n",
    "N = 50\n",
    "X, Y = XY[:N,:-1],XY[:N,-1:]\n",
    "Y = (Y-.5) * 2 # to be in {-1, 1}\n",
    "N = X.shape[0]\n",
    "\n",
    "# Plotting the data\n",
    "\n",
    "plt.scatter(X[:,0], X[:,1], c=Y)\n",
    "plt.xlabel('$x_1$', fontsize=15)\n",
    "plt.ylabel('$x_2$', fontsize=15)\n",
    "plt.title('Classification data', fontsize=20)"
   ]
  },
  {
   "cell_type": "markdown",
   "metadata": {
    "id": "tVmiRlQm66-g"
   },
   "source": [
    "#### Preparing prior statistics\n",
    "\n",
    "We need to compute the prior covariance $K_p = K_{\\bf ff}$ and its Cholesky factor $L_p = chol(K_{\\bf ff})$."
   ]
  },
  {
   "cell_type": "code",
   "execution_count": 9,
   "metadata": {
    "collapsed": true,
    "id": "IqSkvWnW66-h"
   },
   "outputs": [],
   "source": [
    "# kernel parameters\n",
    "l = 0.5\n",
    "s = 0.5 # the standart deviation\n",
    "\n",
    "# computing the kernel matrix K_ff\n",
    "\n",
    "###############################################\n",
    "# ------- insert code here -------------------\n",
    "###############################################\n",
    "\n",
    "#############!! SOLUTION !!####################\n",
    "dists = np.linalg.norm(X[:, None, :] - X[None, :, :], axis=-1)\n",
    "K_p = tf.cast(\n",
    "    s**2 * tf.exp(- 0.5 * dists**2 / l**2),\n",
    "    dtype=tf.float32\n",
    ")\n",
    "#############!! SOLUTION !!####################\n",
    "\n",
    "# Computing m_p, L_p = cholesky(K_p).\n",
    "\n",
    "###############################################\n",
    "# ------- insert code here -------------------\n",
    "###############################################\n",
    "\n",
    "#############!! SOLUTION !!####################\n",
    "m_p = tf.zeros((N, 1), dtype=tf.float32)\n",
    "jitter = 1.e-6\n",
    "L_p = tf.linalg.cholesky(K_p + np.eye(N) * jitter) # jitter sometimes needed.\n",
    "L_p_const = b.inverse(L_p)\n",
    "#############!! SOLUTION !!####################\n",
    "\n"
   ]
  },
  {
   "cell_type": "markdown",
   "metadata": {
    "id": "qqktFNQO66-j"
   },
   "source": [
    "We initialize the variational distribution to $q({\\bf f})={\\cal N}({\\bf f};0, I)$,\n",
    "then optimize the ELBO using gradient based optimization.\n",
    "\n",
    "\n",
    "Gradient based optimization refers to optimization schemes where a function $f(\\theta)$ is optimized with respect to $\\theta$ by following the gradient $\\nabla_{\\theta} f(\\theta)$.\n",
    "For example gradient descent construct a sequence of values $\\theta_t$ following\n",
    "$$\\theta_{t+1 } = \\theta_t + \\eta \\nabla_{\\theta} f(\\theta)|_{\\theta=\\theta_t}$$\n",
    "where $\\eta$ is the learning rate.\n",
    "\n",
    "\n",
    "When using an automatic differentiation framework, one does not need to manually derive the gradient (hence the 'automatic'). Such frameworks include tensorflow, jax, pytorch (pick your favorite). These are widely used to optimize the loss function of neural network models in supervised learning."
   ]
  },
  {
   "cell_type": "code",
   "execution_count": 24,
   "metadata": {
    "colab": {
     "base_uri": "https://localhost:8080/"
    },
    "id": "K2VBthKh66-k",
    "outputId": "37b0a521-b20f-4e50-a5e4-37d1c6c35f05"
   },
   "outputs": [
    {
     "name": "stdout",
     "output_type": "stream",
     "text": [
      "0 tf.Tensor(43.967033, shape=(), dtype=float32)\n",
      "100 tf.Tensor(25.733654, shape=(), dtype=float32)\n",
      "200 tf.Tensor(20.25793, shape=(), dtype=float32)\n",
      "300 tf.Tensor(17.320648, shape=(), dtype=float32)\n",
      "400 tf.Tensor(15.554422, shape=(), dtype=float32)\n",
      "500 tf.Tensor(14.420387, shape=(), dtype=float32)\n",
      "600 tf.Tensor(13.681102, shape=(), dtype=float32)\n",
      "700 tf.Tensor(13.172512, shape=(), dtype=float32)\n",
      "800 tf.Tensor(12.809529, shape=(), dtype=float32)\n",
      "900 tf.Tensor(12.536594, shape=(), dtype=float32)\n"
     ]
    }
   ],
   "source": [
    "# initial distribution parameters m_q, L_q\n",
    "m_q = tf.Variable(tf.zeros((N, 1), dtype=tf.float32))\n",
    "L_q_const = tf.Variable(L_p_const.numpy(), dtype=tf.float32) # just copying the prior!\n",
    "\n",
    "\n",
    "\n",
    "# Optimize the loss: a tensorflow routine is given\n",
    "loss = lambda m, L_const: - elbo(m_p, L_p_const, m, L_const, Y)\n",
    "\n",
    "\n",
    "# definition of a training step\n",
    "def train(opt, m, L_const):\n",
    "    with tf.GradientTape() as tape:\n",
    "        tape.watch([m, L_const])\n",
    "        loss_ = - elbo(m_p, L_p_const, m, L_const, Y)\n",
    "    gradients = tape.gradient(loss_, [m, L_const])\n",
    "    opt.apply_gradients(zip(gradients, [m, L_const]))\n",
    "\n",
    "# you can change the optimizer or learning rate\n",
    "opt = tf.optimizers.Adam(learning_rate=.005) \n",
    "\n",
    "# running the optimization\n",
    "for t in range(1000):\n",
    "    train(opt, m_q, L_q_const)\n",
    "    if t % 100 == 0:\n",
    "        print(t, loss(m_q, L_q_const))   \n"
   ]
  },
  {
   "cell_type": "markdown",
   "metadata": {
    "id": "emZZ_6Zc66-l"
   },
   "source": [
    "* Plot the evolution of the ELBO as a function function of iterations.\n",
    "\n",
    "* Plot the posterior process $p(f^*|x^*, {\\cal D})$.\n",
    "\n",
    "* Plot the predictive distribution $p(y^*=1|x^*)$.\n",
    "\n",
    "* Repeat the procedure for different values of $(\\sigma^2, l)$, can you see an improvement? Is the ELBO a good proxy for hyperparameter optimization in this example?\n"
   ]
  },
  {
   "cell_type": "code",
   "execution_count": 25,
   "metadata": {
    "colab": {
     "base_uri": "https://localhost:8080/",
     "height": 595
    },
    "id": "RCekvfs166-l",
    "outputId": "af9db0a8-106b-408d-ce6f-78cbee778259"
   },
   "outputs": [
    {
     "data": {
      "image/png": "[encoded data removed]",
      "text/plain": [
       "<Figure size 432x288 with 2 Axes>"
      ]
     },
     "metadata": {
      "needs_background": "light",
      "tags": []
     },
     "output_type": "display_data"
    },
    {
     "data": {
      "image/png": "[encoded data removed]",
      "text/plain": [
       "<Figure size 432x288 with 2 Axes>"
      ]
     },
     "metadata": {
      "needs_background": "light",
      "tags": []
     },
     "output_type": "display_data"
    }
   ],
   "source": [
    "###############################################\n",
    "# ------- insert code here -------------------\n",
    "###############################################\n",
    "\n",
    "#############!! SOLUTION !!####################\n",
    "means_final, covs_final = q_marginals(m_q, L_q_const)\n",
    "means_final = means_final.numpy()\n",
    "covs_final = covs_final.numpy()\n",
    "plt.scatter(X[:,0], X[:,1], c=means_final)\n",
    "plt.xlabel('$x_1$', fontsize=15)\n",
    "plt.ylabel('$x_2$', fontsize=15)\n",
    "plt.title('posterior prediction q(f*)', fontsize=20)\n",
    "plt.colorbar()\n",
    "plt.show()\n",
    "\n",
    "p_final = phi(means_final / np.sqrt(1 + covs_final))\n",
    "plt.scatter(X[:,0], X[:,1], c=p_final)\n",
    "plt.xlabel('$x_1$', fontsize=15)\n",
    "plt.ylabel('$x_2$', fontsize=15)\n",
    "plt.title('posterior prediction q(y*)', fontsize=20)\n",
    "plt.colorbar()\n",
    "plt.show()\n",
    "#############!! SOLUTION !!####################\n"
   ]
  },
  {
   "cell_type": "markdown",
   "metadata": {
    "id": "t3ZlPddLxMXT"
   },
   "source": [
    "### Task 1e: Posterior prediction for new data points\n",
    "\n",
    "Under the hood, the algorithm defines a posterior process for all values of the input space.\n",
    "\n",
    "For a new input $x^*$, the posterior prediction is given by \n",
    "\n",
    "$\n",
    "\\begin{align*}\n",
    "q(f(x^*)) &= \\int p(f(x^*)|{\\bf f})q({\\bf f})d{\\bf f}\\\\\n",
    " &= {\\cal N}(f(x^*)| K_{f^*{\\bf f} }K_{{\\bf ff}}^{-1} m_q,\n",
    " K_{f^*f^*} - K_{f^*{\\bf f}}K_{{\\bf ff}}^{-1}(K_{{\\bf ff}} - S)K_{{\\bf ff}}^{-1}K_{{\\bf f} f^*})\n",
    "\\end{align*}\n",
    "$"
   ]
  },
  {
   "cell_type": "code",
   "execution_count": 26,
   "metadata": {
    "id": "nIrjqfJNxKDv"
   },
   "outputs": [],
   "source": [
    "def posterior_marginal_prediction(X_new, X, m_q, L_q_const):\n",
    "  \"\"\" compute the posterior marginal predictions q(f(x*)) \n",
    "  independently for all inputs in X_new \n",
    "  \n",
    "  arguments:\n",
    "    X_new -- N_new x 2, matrix of new inputs\n",
    "    X     -- N x 2, matrix of training inputs\n",
    "    L_q   -- N x N, Cholesky factor of the covariances of q\n",
    "    m_q   -- N x 1, mean vector of q\n",
    "    returns: predictive marginal means and variances (both with size N_new x 1) \n",
    "  \"\"\"\n",
    "\n",
    "\n",
    "  ###############################################\n",
    "  # ------- insert code here -------------------\n",
    "  ###############################################\n",
    "\n",
    "  #############!! SOLUTION !!###################\n",
    "  L_q = b.forward(L_q_const)\n",
    "  L_p = b.forward(L_p_const)\n",
    "\n",
    "  dists = np.linalg.norm(X_new[:, None, :] - X[None, :, :], axis=-1)\n",
    "  K_fnf = tf.cast(\n",
    "    s**2 * tf.exp(- 0.5 * dists**2 / l**2),\n",
    "    dtype=tf.float32\n",
    "  )\n",
    "  dists = tf.reduce_sum(X_new**2,  axis=1, keepdims=True)\n",
    "  K_fnfn = tf.cast(\n",
    "    s**2 * tf.exp(- 0.5 * dists**2 / l**2),\n",
    "    dtype=tf.float32\n",
    "  )\n",
    "\n",
    "  V = tf.linalg.cholesky_solve(L_p, tf.transpose(K_fnf)) # K_ff^-1 K_ff*\n",
    "  pred_means = tf.matmul(V, m_q, transpose_a=True)\n",
    "  A =  tf.matmul(V, L_p, transpose_a=True) # chol(K_ff)^T K_ff^-1 K_ff*\n",
    "  B =  tf.matmul(V, L_q, transpose_a=True) # chol(S)^T K_ff^-1 K_ff*\n",
    "  pred_vars = (\n",
    "      K_fnfn \n",
    "      - tf.reduce_sum(A**2, axis=1, keepdims=True)\n",
    "      + tf.reduce_sum(B**2, axis=1, keepdims=True)\n",
    "  )\n",
    "\n",
    "  return pred_means, pred_vars\n",
    "  #############!! SOLUTION !!###################\n"
   ]
  },
  {
   "cell_type": "markdown",
   "metadata": {
    "id": "sfGR_5yG64zo"
   },
   "source": [
    "Plotting the prediction"
   ]
  },
  {
   "cell_type": "code",
   "execution_count": 27,
   "metadata": {
    "colab": {
     "base_uri": "https://localhost:8080/",
     "height": 306
    },
    "id": "4bXbpwLP3Zcv",
    "outputId": "d8e258dd-ae9b-43a4-f049-28a969b761a1"
   },
   "outputs": [
    {
     "data": {
      "image/png": "[encoded data removed]",
      "text/plain": [
       "<Figure size 432x288 with 2 Axes>"
      ]
     },
     "metadata": {
      "needs_background": "light",
      "tags": []
     },
     "output_type": "display_data"
    }
   ],
   "source": [
    "# create new input points on grid\n",
    "n_grid = 100\n",
    "x = np.linspace(X.min(), X.max(), n_grid)\n",
    "X1new, X2new = np.meshgrid(x, x)\n",
    "Xnew = np.hstack([\n",
    "  X1new.reshape(-1,1), X2new.reshape(-1,1)\n",
    "])  # size : n_grid * n_grid x 2\n",
    "\n",
    "###############################################\n",
    "# ------- insert code here -------------------\n",
    "###############################################\n",
    "  \n",
    "#############!! SOLUTION !!####################\n",
    "\n",
    "# evaluate posterior process on grid\n",
    "pred_means, pred_vars = posterior_marginal_prediction(Xnew, X, m_q, L_q_const)\n",
    "\n",
    "plt.scatter(Xnew[:,0], Xnew[:,1], c=pred_means)\n",
    "plt.xlabel('$x_1$', fontsize=15)\n",
    "plt.ylabel('$x_2$', fontsize=15)\n",
    "plt.title('posterior prediction q(f*)', fontsize=20)\n",
    "plt.colorbar()\n",
    "plt.show()\n",
    "\n",
    "#############!! SOLUTION !!####################\n",
    "\n"
   ]
  },
  {
   "cell_type": "markdown",
   "metadata": {
    "id": "CDp21NI566-m"
   },
   "source": [
    "### Advanced [for the curious, no extra points]\n",
    "* Repeat the procedure for the regression setting with Gaussian noise. You need to derive new variational expectations since the likelihood changes. Apply the resulting algorithm to the regression problem of the previous assignment.\n",
    "* For fixed hyperparameters, do the ELBO match the marginal likelihood $\\log p({\\bf y})$? If so why?"
   ]
  },
  {
   "cell_type": "code",
   "execution_count": 28,
   "metadata": {
    "collapsed": true,
    "id": "tf6jYiwm66-n"
   },
   "outputs": [],
   "source": [
    "###############################################\n",
    "# ------- insert code here -------------------\n",
    "###############################################"
   ]
  },
  {
   "cell_type": "code",
   "execution_count": 28,
   "metadata": {
    "id": "-y3I4SF__RaO"
   },
   "outputs": [],
   "source": []
  }
 ],
 "metadata": {
  "colab": {
   "collapsed_sections": [],
   "name": "lab3_biject.ipynb",
   "provenance": [],
   "toc_visible": true
  },
  "kernelspec": {
   "display_name": "Python 3",
   "language": "python",
   "name": "python3"
  },
  "language_info": {
   "codemirror_mode": {
    "name": "ipython",
    "version": 3
   },
   "file_extension": ".py",
   "mimetype": "text/x-python",
   "name": "python",
   "nbconvert_exporter": "python",
   "pygments_lexer": "ipython3",
   "version": "3.7.3"
  }
 },
 "nbformat": 4,
 "nbformat_minor": 1
}
